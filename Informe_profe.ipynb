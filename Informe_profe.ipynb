{
 "cells": [
  {
   "cell_type": "markdown",
   "id": "d9f7beed",
   "metadata": {},
   "source": [
    "# Revisión de libros"
   ]
  },
  {
   "cell_type": "markdown",
   "id": "14c1730e",
   "metadata": {},
   "source": [
    "## Variables aleatorias"
   ]
  },
  {
   "cell_type": "markdown",
   "id": "93a022ec",
   "metadata": {},
   "source": [
    "[Prob_Variables_Aleatorias](https://github.com/AprendizajeProfundo/Libro-Fundamentos/blob/main/Fundamentacion_Estadistica/Cuadernos/Prob_Variables_Aleatorias.ipynb)"
   ]
  },
  {
   "cell_type": "markdown",
   "id": "7b6b6765",
   "metadata": {},
   "source": [
    "La imagen **barplot.png** aparece como propietario Alvaro Monteneggro en el cuaderno, pero esta imagen aparece en el [repositorio](https://github.com/dermotkel/main_project/blob/master/README.md#31-petal-length). El repositorio tiene licencia Apache 2.0 por lo cual indica que se debe anexar una copia de la licencia.\n",
    "\n",
    "Se recomienda añadir la licencia o cambiar la imagen."
   ]
  },
  {
   "cell_type": "markdown",
   "id": "8bf0aadd",
   "metadata": {},
   "source": [
    "<figure>\n",
    "<center>\n",
    "<img src=\"Imagenes/barplot.png\" width=\"300\" height=\"300\" align=\"center\"/>\n",
    "</center>\n",
    "</figure>\n",
    "\n",
    "<p><center><b>barplot.png</b></center></p>"
   ]
  },
  {
   "cell_type": "markdown",
   "id": "d5f83833",
   "metadata": {},
   "source": [
    "## Tensores y distribuciones de probabilidad"
   ]
  },
  {
   "cell_type": "markdown",
   "id": "d2b8a9ae",
   "metadata": {},
   "source": [
    "[Tensor_Distribucion_Prob](https://github.com/AprendizajeProfundo/Libro-Fundamentos/blob/main/Fundamentacion_Matematica/Cuadernos/Tensor_Distribucion_Prob.ipynb)"
   ]
  },
  {
   "cell_type": "markdown",
   "id": "204f79d2",
   "metadata": {},
   "source": [
    "Las imagenes **svm.png** y **sepal.webp** tienen copyright, por lo cual se recomienda cambiar la imagen. La imagen **barplot.png** es la misma que se encuentra en el cuaderno anterior."
   ]
  },
  {
   "cell_type": "markdown",
   "id": "fe798d40",
   "metadata": {},
   "source": [
    "|   |    |\n",
    "|---|---|\n",
    "|<img src=\"Imagenes/svm.png\" width=\"400\" height=\"300\" />|<img src=\"Imagenes/sepal.webp\" width=\"300\" height=\"300\" />|\n",
    "|<p><center><b>svm.png</b></center></p>|<p><center><b>sepal.webp</b></center></p>|"
   ]
  },
  {
   "cell_type": "markdown",
   "id": "a0e838d4",
   "metadata": {},
   "source": [
    "## Ejemplos de Modelamiento"
   ]
  },
  {
   "cell_type": "markdown",
   "id": "c74bed6e",
   "metadata": {},
   "source": [
    "[mod_Ejemplo_Modelamiento](https://github.com/AprendizajeProfundo/Libro-Fundamentos/blob/main/Fundamentacion_Matematica/Cuadernos/mod_Ejemplo_Modelamiento.ipynb)"
   ]
  },
  {
   "cell_type": "markdown",
   "id": "917aae00",
   "metadata": {},
   "source": [
    "Las siguientes imágenes tienen copyright:\n",
    "\n",
    "* EstimateMultipleLinearRegressionCoefficientsExample_01.png\n",
    "* 1*z_B0o4JbD0C6gpmcenUc4w.jpeg\n",
    "* 3d1.png\n",
    "* perceptron.png\n",
    "* 1*kOVIEQihU2bKPu2-13b5Jw.gif\n",
    "* EmaJ5JU.gif"
   ]
  },
  {
   "cell_type": "markdown",
   "id": "27a6366d",
   "metadata": {},
   "source": [
    "|   |   |   |\n",
    "|---|---|---|\n",
    "|<img src=\"https://www.mathworks.com/help/examples/stats/win64/EstimateMultipleLinearRegressionCoefficientsExample_01.png\" width=\"300\" height=\"300\" />|<img src=\"https://miro.medium.com/max/1200/1*z_B0o4JbD0C6gpmcenUc4w.jpeg\" width=\"300\" height=\"300\" />|<img src=\"https://media.geeksforgeeks.org/wp-content/uploads/3d1.png\" width=\"300\" height=\"300\" />|\n",
    "|<p><center><b>EstimateMultipleLinearRegressionCoefficientsExample_01.png</b></center></p>|<p><center><b>1*z_B0o4JbD0C6gpmcenUc4w.jpeg</b></center></p>|<p><center><b>3d1.png</b></center></p>|"
   ]
  },
  {
   "cell_type": "markdown",
   "id": "9350d6bf",
   "metadata": {},
   "source": [
    "|   |   |   |\n",
    "|---|---|---|\n",
    "|<img src=\"https://content.codecademy.com/programs/machine-learning/perceptron/perceptron.png\" width=\"300\" height=\"300\" />|<img src=\"https://miro.medium.com/max/572/1*kOVIEQihU2bKPu2-13b5Jw.gif\" width=300 height=300 />|<img src=\"https://i.imgur.com/EmaJ5JU.gif\" width=400 height=3400 />|\n",
    "|<p><center><b>perceptron.png</b></center></p>|<p><center><b>1*kOVIEQihU2bKPu2-13b5Jw.gif</b></center></p>|<p><center><b>EmaJ5JU.gif</b></center></p>|"
   ]
  },
  {
   "cell_type": "markdown",
   "id": "ca774447",
   "metadata": {},
   "source": [
    "A las siguientes imagenes no se encontró licencia:\n",
    "\n",
    "* Parent_Functions_%2528Falzone%2529.png\n",
    "* QuadricChart.gif"
   ]
  },
  {
   "cell_type": "markdown",
   "id": "3b2e9c15",
   "metadata": {},
   "source": [
    "|   |   |\n",
    "|---|---|\n",
    "|<img src=\"http://3.bp.blogspot.com/-TJ-Ipbn929A/TpWBCnlNNxI/AAAAAAAABu4/HMqt2Avz80U/s1600/Parent_Functions_%2528Falzone%2529.png\" width=\"250\" height=\"300\" />|<img src=\"https://www.math.tamu.edu/~ssinjini/Math251/QuadricChart.gif\" width=\"300\" height=\"300\" />|\n",
    "|<p><center><b>Parent_Functions_%2528Falzone%2529.png</b></center></p>|<p><center><b>QuadricChart.gif</b></center></p>|"
   ]
  },
  {
   "cell_type": "markdown",
   "id": "8d2f2707",
   "metadata": {},
   "source": [
    "## Ejemplos de Modelos"
   ]
  },
  {
   "cell_type": "markdown",
   "id": "f19a27ba",
   "metadata": {},
   "source": [
    "[mod_Modelamiento](https://github.com/AprendizajeProfundo/Libro-Fundamentos/blob/main/Fundamentacion_Matematica/Cuadernos/mod_Modelamiento.ipynb)"
   ]
  },
  {
   "cell_type": "markdown",
   "id": "33d77149",
   "metadata": {},
   "source": [
    "Las siguientes imagenes no se encontró licencia:\n",
    "\n",
    "* mod_numbers.png\n",
    "* p051dk5h.jpg\n",
    "* mod_machine-learning-map.png"
   ]
  },
  {
   "cell_type": "markdown",
   "id": "af72f031",
   "metadata": {},
   "source": [
    "|   |   |   |\n",
    "|---|---|---|\n",
    "|<img src=\"Imagenes/mod_numbers.png\" height='200' width='200' />|<img src=\"https://steemitimages.com/DQmTwoKJXYSzr9wHSRx5sdNwiPbH5YrB2amBR2CPadVzV2i/p051dk5h.jpg\" height='300' width='300' />|<img src=\"Imagenes/mod_machine-learning-map.png\" height='300' width='300' />|\n",
    "|<p><center><b>mod_numbers.png</b></center></p>|<p><center><b>p051dk5h.jpg</b></center></p>|<p><center><b>mod_machine-learning-map.png</b></center></p>|"
   ]
  },
  {
   "cell_type": "markdown",
   "id": "600524e7",
   "metadata": {},
   "source": [
    "Las siguientes imágenes tienen copyright:\n",
    "\n",
    "* U21C6.svg-5c5c5c52c9e77c0001d92a41.png"
   ]
  },
  {
   "cell_type": "markdown",
   "id": "c5ccbe49",
   "metadata": {},
   "source": [
    "<figure>\n",
    "<center>\n",
    "<img src=\"https://www.lifewire.com/thmb/WKZwbDsAToM9wjmKCStWg1BEMbE=/768x0/filters:no_upscale():max_bytes(150000):strip_icc():format(webp)/U21C6.svg-5c5c5c52c9e77c0001d92a41.png\" height='70' width='70'/>\n",
    "</center>\n",
    "</figure>\n",
    "\n",
    "<p><center><b>U21C6.svg-5c5c5c52c9e77c0001d92a41.png</b></center></p>"
   ]
  },
  {
   "cell_type": "markdown",
   "id": "640a2b05",
   "metadata": {},
   "source": [
    "Las siguientes no se encontró licencia:\n",
    "\n",
    "* mod_datos.jpg\n",
    "* mod_reg1.jpg\n",
    "* mod_reg2.jpg\n",
    "* mod_loss.jpg"
   ]
  },
  {
   "cell_type": "markdown",
   "id": "3a1d588b",
   "metadata": {},
   "source": [
    "|   |   |\n",
    "|---|---|\n",
    "|<img src=\"Imagenes/mod_datos.jpg\" height='400' width='400' />|<img src=\"Imagenes/mod_reg1.jpg\" height='400' width='400' />|\n",
    "|<p><center><b>mod_datos.jpg</b></center></p>|<p><center><b>mod_reg1.jpg</b></center></p>|"
   ]
  },
  {
   "cell_type": "markdown",
   "id": "6e7690ea",
   "metadata": {},
   "source": [
    "|   |   |\n",
    "|---|---|\n",
    "|<img src=\"Imagenes/mod_reg2.jpg\" height='400' width='400' />|<img src=\"Imagenes/mod_loss.jpg\" height='400' width='400' />|\n",
    "|<p><center><b>mod_reg2.jpg</b></center></p>|<p><center><b>mod_loss.jpg</b></center></p>|"
   ]
  },
  {
   "cell_type": "markdown",
   "id": "bf7979cd",
   "metadata": {},
   "source": [
    "En la sección <span style=\"color:#4CC9F0\">Ecuaciones Diferenciales Parciales</span> el enlace que dice [motor]() está roto, se recomienda cambiarlo."
   ]
  },
  {
   "cell_type": "markdown",
   "id": "1cfdf5bb",
   "metadata": {},
   "source": [
    "En la sección <span style=\"color:#4361EE\">Teorema de Aproximación Universal</span> hay dos enlaces [Concepto]() y [Ejemplo](). Se desea preguntar si se va añadir más información a las sección, o se deja como está."
   ]
  },
  {
   "cell_type": "markdown",
   "id": "8a51ad5f",
   "metadata": {},
   "source": [
    "# Introducción a la Derivación"
   ]
  },
  {
   "cell_type": "markdown",
   "id": "d0d1ca19",
   "metadata": {},
   "source": [
    "[cal_derivadas](https://github.com/AprendizajeProfundo/Libro-Fundamentos/blob/main/Fundamentacion_Matematica/Cuadernos/cal_derivadas.ipynb)"
   ]
  },
  {
   "cell_type": "markdown",
   "id": "e0a500da",
   "metadata": {},
   "source": [
    "Las siguientes imágenes no se encontró licencias:\n",
    "\n",
    "* cal_Dragon_SpaceX.jpg\n",
    "* cal_BalloonGirl.jpg\n",
    "* cal_Ducati.png\n",
    "* Animated_Aston_Martin_Speedometer.gif"
   ]
  },
  {
   "cell_type": "markdown",
   "id": "44d65c02",
   "metadata": {},
   "source": [
    "| | | |\n",
    "|-------------------------|-------------------------|-------------------------|\n",
    "|<img src=\"Imagenes/cal_Dragon_SpaceX.jpg\" width=300 height=300 >|<img src=\"Imagenes/cal_BalloonGirl.jpg\" width=200 height=300>|<img src=\"Imagenes/cal_Ducati.png\" width=300 height=300>|\n",
    "|<p><center><b>cal_Dragon_SpaceX.jpg</b></center></p>|<p><center><b>cal_BalloonGirl.jpg</b></center></p>|<p><center><b>cal_Ducati.png</b></center></p>|"
   ]
  },
  {
   "cell_type": "markdown",
   "id": "f76c9b23",
   "metadata": {},
   "source": [
    "<figure>\n",
    "<center>\n",
    "<img src=\"https://vignette.wikia.nocookie.net/tractors/images/5/59/Animated_Aston_Martin_Speedometer.gif/revision/latest?cb=20140410040904\" height='200' width='200' />\n",
    "</center>\n",
    "</figure>\n",
    "\n",
    "<p><center><b>Animated_Aston_Martin_Speedometer.gif</b></center></p>"
   ]
  },
  {
   "cell_type": "markdown",
   "id": "6dd2942a",
   "metadata": {},
   "source": [
    "Las siguientes imágenes tienen copyright:\n",
    "\n",
    "* CNX_Precalc_Figure_12_04_0082.jpg"
   ]
  },
  {
   "cell_type": "markdown",
   "id": "9d659600",
   "metadata": {},
   "source": [
    "<figure>\n",
    "<center>\n",
    "<img src=\"https://s3-us-west-2.amazonaws.com/courses-images-archive-read-only/wp-content/uploads/sites/923/2015/04/25173952/CNX_Precalc_Figure_12_04_0082.jpg\" height='300' width='300' />\n",
    "</center>\n",
    "</figure>\n",
    "\n",
    "<p><center><b>CNX_Precalc_Figure_12_04_0082.jpg</b></center></p>"
   ]
  },
  {
   "cell_type": "markdown",
   "id": "8d489992",
   "metadata": {},
   "source": [
    "En la sección <span style=\"color:#4CC9F0\">Concepto Geométrico</span> las imágenes no se encuentran en el repositorio, se recomienda cambiar imágenes."
   ]
  },
  {
   "cell_type": "markdown",
   "id": "c96e018d",
   "metadata": {},
   "source": [
    "[am_intro_regresion](https://github.com/AprendizajeProfundo/Libro-Fundamentos/blob/main/Fundamentacion_Matematica/Cuadernos/am_intro_regresion.ipynb)"
   ]
  },
  {
   "cell_type": "markdown",
   "id": "25c295de",
   "metadata": {},
   "source": [
    "Verificar si las siguientes imágenes son propiedad de Aprendizaje profundo:\n",
    "\n",
    "* regression_curve.png\n",
    "* predictive_2.png"
   ]
  },
  {
   "cell_type": "markdown",
   "id": "36eef794",
   "metadata": {},
   "source": [
    "|   |   |\n",
    "|---|---|\n",
    "|<img src=\"Imagenes/regression_curve.png\" width=\"400\" height=\"400\" align=\"center\"/>|<img src=\"Imagenes/predictive_2.png\" width=\"400\" height=\"300\" align=\"center\"/>|\n",
    "|<p><center><b>regression_curve.png</b></center></p>|<p><center><b>predictive_2.png</b></center></p>|"
   ]
  }
 ],
 "metadata": {
  "kernelspec": {
   "display_name": "Python 3 (ipykernel)",
   "language": "python",
   "name": "python3"
  },
  "language_info": {
   "codemirror_mode": {
    "name": "ipython",
    "version": 3
   },
   "file_extension": ".py",
   "mimetype": "text/x-python",
   "name": "python",
   "nbconvert_exporter": "python",
   "pygments_lexer": "ipython3",
   "version": "3.9.12"
  }
 },
 "nbformat": 4,
 "nbformat_minor": 5
}
